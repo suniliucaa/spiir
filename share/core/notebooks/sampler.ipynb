{
 "cells": [
  {
   "cell_type": "code",
   "execution_count": 1,
   "metadata": {},
   "outputs": [],
   "source": [
    "%load_ext autoreload\n",
    "%autoreload 2"
   ]
  },
  {
   "cell_type": "code",
   "execution_count": 1,
   "metadata": {},
   "outputs": [],
   "source": [
    "import yaml\n",
    "import numpy as np\n",
    "\n",
    "from spiir.distribution import JointDistribution"
   ]
  },
  {
   "cell_type": "code",
   "execution_count": 2,
   "metadata": {},
<<<<<<< HEAD
=======
   "outputs": [],
   "source": [
    "priors = JointDistribution.from_yaml(\"../config/priors.yaml\")"
   ]
  },
  {
   "cell_type": "code",
   "execution_count": 3,
   "metadata": {},
>>>>>>> dev
   "outputs": [
    {
     "data": {
      "text/plain": [
       "JointDistribution(\n",
       "  distributions=(\n",
       "    SciPyDistribution(variable='mass_1', distribution='truncnorm', kwargs={'a': 1, 'b': inf, 'loc': 10, 'scale': 3}),\n",
       "    SciPyDistribution(variable='mass_2', distribution='truncnorm', kwargs={'a': 1, 'b': 5, 'loc': 2.5, 'scale': 1}),\n",
       "    NumPyDistribution(variable='phase', distribution='uniform', kwargs={'low': 0.0, 'high': 3.141592653589793}),\n",
       "    NumPyDistribution(variable='chi_1', distribution='uniform', kwargs={'low': 0.0, 'high': 0.88}),\n",
       "    NumPyDistribution(variable='chi_2', distribution='uniform', kwargs={'low': 0.0, 'high': 0.88}),\n",
       "    PyCBCDistribution(variable='theta_1', distribution='sin_angle', kwargs={}),\n",
       "    PyCBCDistribution(variable='theta_2', distribution='sin_angle', kwargs={}),\n",
       "    PyCBCDistribution(variable='theta_jn', distribution='sin_angle', kwargs={}),\n",
       "    NumPyDistribution(variable='phi_12', distribution='uniform', kwargs={'low': 0.0, 'high': 3.141592653589793}),\n",
       "    NumPyDistribution(variable='phi_jl', distribution='uniform', kwargs={'low': 0.0, 'high': 3.141592653589793})\n",
       "  ),\n",
       "  constraints=(\n",
       "    NumPyConstraint(variables=['mass_1', 1], constraint='greater', kwargs={}),\n",
       "    NumPyConstraint(variables=['mass_2', 1], constraint='greater', kwargs={}),\n",
       "    NumPyConstraint(variables=['mass_1', 'mass_2'], constraint='greater_equal', kwargs={})\n",
       "  )\n",
       ")"
      ]
     },
     "execution_count": 3,
     "metadata": {},
     "output_type": "execute_result"
    }
   ],
   "source": [
<<<<<<< HEAD
    "priors = JointDistribution.from_yaml(\"../config/priors.yaml\")\n",
=======
>>>>>>> dev
    "priors"
   ]
  },
  {
   "cell_type": "code",
   "execution_count": 4,
   "metadata": {},
   "outputs": [
    {
     "data": {
      "text/html": [
       "<div>\n",
       "<style scoped>\n",
       "    .dataframe tbody tr th:only-of-type {\n",
       "        vertical-align: middle;\n",
       "    }\n",
       "\n",
       "    .dataframe tbody tr th {\n",
       "        vertical-align: top;\n",
       "    }\n",
       "\n",
       "    .dataframe thead th {\n",
       "        text-align: right;\n",
       "    }\n",
       "</style>\n",
       "<table border=\"1\" class=\"dataframe\">\n",
       "  <thead>\n",
       "    <tr style=\"text-align: right;\">\n",
       "      <th></th>\n",
       "      <th>mass_1</th>\n",
       "      <th>mass_2</th>\n",
       "      <th>phase</th>\n",
       "      <th>chi_1</th>\n",
       "      <th>chi_2</th>\n",
       "      <th>theta_1</th>\n",
       "      <th>theta_2</th>\n",
       "      <th>theta_jn</th>\n",
       "      <th>phi_12</th>\n",
       "      <th>phi_jl</th>\n",
       "    </tr>\n",
       "  </thead>\n",
       "  <tbody>\n",
       "    <tr>\n",
       "      <th>0</th>\n",
       "      <td>15.446371</td>\n",
       "      <td>4.315454</td>\n",
       "      <td>2.453953</td>\n",
       "      <td>0.687383</td>\n",
       "      <td>0.687383</td>\n",
<<<<<<< HEAD
       "      <td>1.751664</td>\n",
       "      <td>1.802476</td>\n",
       "      <td>1.199120</td>\n",
=======
       "      <td>1.648875</td>\n",
       "      <td>2.137366</td>\n",
       "      <td>2.057351</td>\n",
>>>>>>> dev
       "      <td>2.453953</td>\n",
       "      <td>2.453953</td>\n",
       "    </tr>\n",
       "    <tr>\n",
       "      <th>1</th>\n",
       "      <td>14.601522</td>\n",
       "      <td>4.033839</td>\n",
       "      <td>1.903325</td>\n",
       "      <td>0.533145</td>\n",
       "      <td>0.533145</td>\n",
<<<<<<< HEAD
       "      <td>1.233459</td>\n",
       "      <td>0.946125</td>\n",
       "      <td>0.941654</td>\n",
=======
       "      <td>1.968942</td>\n",
       "      <td>1.989682</td>\n",
       "      <td>0.565744</td>\n",
>>>>>>> dev
       "      <td>1.903325</td>\n",
       "      <td>1.903325</td>\n",
       "    </tr>\n",
       "    <tr>\n",
       "      <th>2</th>\n",
       "      <td>15.053530</td>\n",
       "      <td>4.184508</td>\n",
       "      <td>2.229906</td>\n",
       "      <td>0.624625</td>\n",
       "      <td>0.624625</td>\n",
<<<<<<< HEAD
       "      <td>2.061506</td>\n",
       "      <td>1.474898</td>\n",
       "      <td>2.181184</td>\n",
=======
       "      <td>1.116113</td>\n",
       "      <td>1.519243</td>\n",
       "      <td>2.243941</td>\n",
>>>>>>> dev
       "      <td>2.229906</td>\n",
       "      <td>2.229906</td>\n",
       "    </tr>\n",
       "    <tr>\n",
       "      <th>3</th>\n",
       "      <td>13.180698</td>\n",
       "      <td>3.560232</td>\n",
       "      <td>0.279909</td>\n",
       "      <td>0.078406</td>\n",
       "      <td>0.078406</td>\n",
<<<<<<< HEAD
       "      <td>1.143432</td>\n",
       "      <td>1.662153</td>\n",
       "      <td>2.673471</td>\n",
=======
       "      <td>1.445575</td>\n",
       "      <td>0.180877</td>\n",
       "      <td>1.830478</td>\n",
>>>>>>> dev
       "      <td>0.279909</td>\n",
       "      <td>0.279909</td>\n",
       "    </tr>\n",
       "    <tr>\n",
       "      <th>4</th>\n",
       "      <td>14.700185</td>\n",
       "      <td>4.066727</td>\n",
       "      <td>1.981448</td>\n",
       "      <td>0.555029</td>\n",
       "      <td>0.555029</td>\n",
<<<<<<< HEAD
       "      <td>1.628768</td>\n",
       "      <td>1.291297</td>\n",
       "      <td>1.414217</td>\n",
=======
       "      <td>1.983939</td>\n",
       "      <td>1.799643</td>\n",
       "      <td>1.811829</td>\n",
>>>>>>> dev
       "      <td>1.981448</td>\n",
       "      <td>1.981448</td>\n",
       "    </tr>\n",
       "    <tr>\n",
       "      <th>...</th>\n",
       "      <td>...</td>\n",
       "      <td>...</td>\n",
       "      <td>...</td>\n",
       "      <td>...</td>\n",
       "      <td>...</td>\n",
       "      <td>...</td>\n",
       "      <td>...</td>\n",
       "      <td>...</td>\n",
       "      <td>...</td>\n",
       "      <td>...</td>\n",
       "    </tr>\n",
       "    <tr>\n",
       "      <th>995</th>\n",
       "      <td>16.036782</td>\n",
       "      <td>4.512256</td>\n",
       "      <td>2.704057</td>\n",
       "      <td>0.757441</td>\n",
       "      <td>0.757441</td>\n",
<<<<<<< HEAD
       "      <td>1.676424</td>\n",
       "      <td>2.264449</td>\n",
       "      <td>1.653427</td>\n",
=======
       "      <td>2.086789</td>\n",
       "      <td>0.936593</td>\n",
       "      <td>2.079136</td>\n",
>>>>>>> dev
       "      <td>2.704057</td>\n",
       "      <td>2.704057</td>\n",
       "    </tr>\n",
       "    <tr>\n",
       "      <th>996</th>\n",
       "      <td>13.434207</td>\n",
       "      <td>3.644735</td>\n",
       "      <td>0.643464</td>\n",
       "      <td>0.180242</td>\n",
       "      <td>0.180242</td>\n",
<<<<<<< HEAD
       "      <td>2.282910</td>\n",
       "      <td>1.290217</td>\n",
       "      <td>1.949902</td>\n",
=======
       "      <td>1.064428</td>\n",
       "      <td>0.295298</td>\n",
       "      <td>2.767121</td>\n",
>>>>>>> dev
       "      <td>0.643464</td>\n",
       "      <td>0.643464</td>\n",
       "    </tr>\n",
       "    <tr>\n",
       "      <th>997</th>\n",
       "      <td>13.052263</td>\n",
       "      <td>3.517421</td>\n",
       "      <td>0.082743</td>\n",
       "      <td>0.023177</td>\n",
       "      <td>0.023177</td>\n",
<<<<<<< HEAD
       "      <td>1.656192</td>\n",
       "      <td>0.179700</td>\n",
       "      <td>1.903816</td>\n",
=======
       "      <td>1.996551</td>\n",
       "      <td>1.928967</td>\n",
       "      <td>0.677872</td>\n",
>>>>>>> dev
       "      <td>0.082743</td>\n",
       "      <td>0.082743</td>\n",
       "    </tr>\n",
       "    <tr>\n",
       "      <th>998</th>\n",
       "      <td>16.183732</td>\n",
       "      <td>4.561239</td>\n",
       "      <td>2.752696</td>\n",
       "      <td>0.771065</td>\n",
       "      <td>0.771065</td>\n",
<<<<<<< HEAD
       "      <td>0.315944</td>\n",
       "      <td>1.299533</td>\n",
       "      <td>2.122930</td>\n",
=======
       "      <td>1.107095</td>\n",
       "      <td>1.687959</td>\n",
       "      <td>1.235857</td>\n",
>>>>>>> dev
       "      <td>2.752696</td>\n",
       "      <td>2.752696</td>\n",
       "    </tr>\n",
       "    <tr>\n",
       "      <th>999</th>\n",
       "      <td>13.473956</td>\n",
       "      <td>3.657985</td>\n",
       "      <td>0.697410</td>\n",
       "      <td>0.195353</td>\n",
       "      <td>0.195353</td>\n",
<<<<<<< HEAD
       "      <td>2.597356</td>\n",
       "      <td>2.125121</td>\n",
       "      <td>2.235215</td>\n",
=======
       "      <td>1.517617</td>\n",
       "      <td>1.218514</td>\n",
       "      <td>2.083468</td>\n",
>>>>>>> dev
       "      <td>0.697410</td>\n",
       "      <td>0.697410</td>\n",
       "    </tr>\n",
       "  </tbody>\n",
       "</table>\n",
       "<p>1000 rows × 10 columns</p>\n",
       "</div>"
      ],
      "text/plain": [
<<<<<<< HEAD
       "        mass_1    mass_2     phase     chi_1     chi_2   theta_1   theta_2  \\\n",
       "0    15.446371  4.315454  2.453953  0.687383  0.687383  1.751664  1.802476   \n",
       "1    14.601522  4.033839  1.903325  0.533145  0.533145  1.233459  0.946125   \n",
       "2    15.053530  4.184508  2.229906  0.624625  0.624625  2.061506  1.474898   \n",
       "3    13.180698  3.560232  0.279909  0.078406  0.078406  1.143432  1.662153   \n",
       "4    14.700185  4.066727  1.981448  0.555029  0.555029  1.628768  1.291297   \n",
       "..         ...       ...       ...       ...       ...       ...       ...   \n",
       "995  16.036782  4.512256  2.704057  0.757441  0.757441  1.676424  2.264449   \n",
       "996  13.434207  3.644735  0.643464  0.180242  0.180242  2.282910  1.290217   \n",
       "997  13.052263  3.517421  0.082743  0.023177  0.023177  1.656192  0.179700   \n",
       "998  16.183732  4.561239  2.752696  0.771065  0.771065  0.315944  1.299533   \n",
       "999  13.473956  3.657985  0.697410  0.195353  0.195353  2.597356  2.125121   \n",
       "\n",
       "     theta_jn    phi_12    phi_jl  \n",
       "0    1.199120  2.453953  2.453953  \n",
       "1    0.941654  1.903325  1.903325  \n",
       "2    2.181184  2.229906  2.229906  \n",
       "3    2.673471  0.279909  0.279909  \n",
       "4    1.414217  1.981448  1.981448  \n",
       "..        ...       ...       ...  \n",
       "995  1.653427  2.704057  2.704057  \n",
       "996  1.949902  0.643464  0.643464  \n",
       "997  1.903816  0.082743  0.082743  \n",
       "998  2.122930  2.752696  2.752696  \n",
       "999  2.235215  0.697410  0.697410  \n",
=======
       "        mass_1    mass_2     phase  ...  theta_jn    phi_12    phi_jl\n",
       "0    15.446371  4.315454  2.453953  ...  2.057351  2.453953  2.453953\n",
       "1    14.601522  4.033839  1.903325  ...  0.565744  1.903325  1.903325\n",
       "2    15.053530  4.184508  2.229906  ...  2.243941  2.229906  2.229906\n",
       "3    13.180698  3.560232  0.279909  ...  1.830478  0.279909  0.279909\n",
       "4    14.700185  4.066727  1.981448  ...  1.811829  1.981448  1.981448\n",
       "..         ...       ...       ...  ...       ...       ...       ...\n",
       "995  16.036782  4.512256  2.704057  ...  2.079136  2.704057  2.704057\n",
       "996  13.434207  3.644735  0.643464  ...  2.767121  0.643464  0.643464\n",
       "997  13.052263  3.517421  0.082743  ...  0.677872  0.082743  0.082743\n",
       "998  16.183732  4.561239  2.752696  ...  1.235857  2.752696  2.752696\n",
       "999  13.473956  3.657985  0.697410  ...  2.083468  0.697410  0.697410\n",
>>>>>>> dev
       "\n",
       "[1000 rows x 10 columns]"
      ]
     },
     "execution_count": 4,
     "metadata": {},
     "output_type": "execute_result"
    }
   ],
   "source": [
    "samples = priors.draw(1000)\n",
    "samples"
   ]
  },
  {
   "cell_type": "code",
   "execution_count": 5,
   "metadata": {},
   "outputs": [
    {
     "data": {
<<<<<<< HEAD
      "image/png": "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",
=======
      "image/png": "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",
>>>>>>> dev
      "text/plain": [
       "<Figure size 1152x864 with 12 Axes>"
      ]
     },
     "metadata": {
      "needs_background": "light"
     },
     "output_type": "display_data"
    }
   ],
   "source": [
    "samples.hist(bins=50, figsize=(16,12));"
   ]
  }
 ],
 "metadata": {
  "kernelspec": {
   "display_name": "Python 3.10.4 ('venv': venv)",
   "language": "python",
   "name": "python3"
  },
  "language_info": {
   "codemirror_mode": {
    "name": "ipython",
    "version": 3
   },
   "file_extension": ".py",
   "mimetype": "text/x-python",
   "name": "python",
   "nbconvert_exporter": "python",
   "pygments_lexer": "ipython3",
   "version": "3.10.4"
  },
  "orig_nbformat": 4,
  "vscode": {
   "interpreter": {
    "hash": "a56a66767397b9cd73b9c1623793e8d8cf7697e9c91fc24d2f8994415e1d921d"
   }
  }
 },
 "nbformat": 4,
 "nbformat_minor": 2
}
