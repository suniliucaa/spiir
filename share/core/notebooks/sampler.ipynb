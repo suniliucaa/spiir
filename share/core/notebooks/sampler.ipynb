{
 "cells": [
  {
   "cell_type": "code",
   "execution_count": 1,
   "metadata": {},
   "outputs": [],
   "source": [
    "%load_ext autoreload\n",
    "%autoreload 2"
   ]
  },
  {
   "cell_type": "code",
   "execution_count": 2,
   "metadata": {},
   "outputs": [],
   "source": [
    "import yaml\n",
    "import numpy as np\n",
    "\n",
    "from spiir.distribution import load_priors_from_config"
   ]
  },
  {
   "cell_type": "code",
   "execution_count": 3,
   "metadata": {},
   "outputs": [],
   "source": [
    "with open(\"../core/config/priors.yaml\") as f:\n",
    "    config = yaml.safe_load(f)"
   ]
  },
  {
   "cell_type": "code",
   "execution_count": 4,
   "metadata": {},
   "outputs": [
    {
     "data": {
      "text/plain": [
       "JointDistribution(\n",
       "  distributions=(\n",
       "    NumPyDistribution(variable='mass_1', distribution='normal', kwargs={'loc': 7, 'scale': 2}),\n",
       "    NumPyDistribution(variable='mass_2', distribution='normal', kwargs={'loc': 6, 'scale': 1}),\n",
       "    NumPyDistribution(variable='phase', distribution='uniform', kwargs={'low': 0.0, 'high': 3.141592653589793}),\n",
       "    NumPyDistribution(variable='chi_1', distribution='uniform', kwargs={'low': 0.0, 'high': 0.88}),\n",
       "    NumPyDistribution(variable='chi_2', distribution='uniform', kwargs={'low': 0.0, 'high': 0.88}),\n",
       "    PyCBCDistribution(variable='theta_1', distribution='sin_angle', kwargs={}),\n",
       "    PyCBCDistribution(variable='theta_2', distribution='sin_angle', kwargs={}),\n",
       "    PyCBCDistribution(variable='theta_jn', distribution='sin_angle', kwargs={}),\n",
       "    NumPyDistribution(variable='phi_12', distribution='uniform', kwargs={'low': 0.0, 'high': 3.141592653589793}),\n",
       "    NumPyDistribution(variable='phi_jl', distribution='uniform', kwargs={'low': 0.0, 'high': 3.141592653589793})\n",
       "  ),\n",
       "  constraints=(\n",
       "    NumPyConstraint(variables=['mass_1', 1], constraint='greater', kwargs={}),\n",
       "    NumPyConstraint(variables=['mass_2', 1], constraint='greater', kwargs={}),\n",
       "    NumPyConstraint(variables=['mass_1', 'mass_2'], constraint='greater_equal', kwargs={})\n",
       "  )\n",
       ")"
      ]
     },
     "execution_count": 4,
     "metadata": {},
     "output_type": "execute_result"
    }
   ],
   "source": [
    "priors = load_priors_from_config(config)\n",
    "priors"
   ]
  },
  {
   "cell_type": "code",
   "execution_count": 5,
   "metadata": {},
   "outputs": [
    {
     "data": {
      "text/html": [
       "<div>\n",
       "<style scoped>\n",
       "    .dataframe tbody tr th:only-of-type {\n",
       "        vertical-align: middle;\n",
       "    }\n",
       "\n",
       "    .dataframe tbody tr th {\n",
       "        vertical-align: top;\n",
       "    }\n",
       "\n",
       "    .dataframe thead th {\n",
       "        text-align: right;\n",
       "    }\n",
       "</style>\n",
       "<table border=\"1\" class=\"dataframe\">\n",
       "  <thead>\n",
       "    <tr style=\"text-align: right;\">\n",
       "      <th></th>\n",
       "      <th>mass_1</th>\n",
       "      <th>mass_2</th>\n",
       "      <th>phase</th>\n",
       "      <th>chi_1</th>\n",
       "      <th>chi_2</th>\n",
       "      <th>theta_1</th>\n",
       "      <th>theta_2</th>\n",
       "      <th>theta_jn</th>\n",
       "      <th>phi_12</th>\n",
       "      <th>phi_jl</th>\n",
       "    </tr>\n",
       "  </thead>\n",
       "  <tbody>\n",
       "    <tr>\n",
       "      <th>0</th>\n",
       "      <td>7.717547</td>\n",
       "      <td>6.358773</td>\n",
       "      <td>2.453953</td>\n",
       "      <td>0.687383</td>\n",
       "      <td>0.687383</td>\n",
       "      <td>1.113716</td>\n",
       "      <td>1.443524</td>\n",
       "      <td>1.760225</td>\n",
       "      <td>2.453953</td>\n",
       "      <td>2.453953</td>\n",
       "    </tr>\n",
       "    <tr>\n",
       "      <th>1</th>\n",
       "      <td>10.021355</td>\n",
       "      <td>7.510677</td>\n",
       "      <td>1.903325</td>\n",
       "      <td>0.533145</td>\n",
       "      <td>0.533145</td>\n",
       "      <td>2.355071</td>\n",
       "      <td>1.115962</td>\n",
       "      <td>2.286962</td>\n",
       "      <td>1.903325</td>\n",
       "      <td>1.903325</td>\n",
       "    </tr>\n",
       "    <tr>\n",
       "      <th>2</th>\n",
       "      <td>10.373227</td>\n",
       "      <td>7.686614</td>\n",
       "      <td>0.279909</td>\n",
       "      <td>0.078406</td>\n",
       "      <td>0.078406</td>\n",
       "      <td>1.712678</td>\n",
       "      <td>1.097208</td>\n",
       "      <td>2.463087</td>\n",
       "      <td>0.279909</td>\n",
       "      <td>0.279909</td>\n",
       "    </tr>\n",
       "    <tr>\n",
       "      <th>3</th>\n",
       "      <td>6.905366</td>\n",
       "      <td>5.952683</td>\n",
       "      <td>1.981448</td>\n",
       "      <td>0.555029</td>\n",
       "      <td>0.555029</td>\n",
       "      <td>1.260259</td>\n",
       "      <td>1.486429</td>\n",
       "      <td>1.665707</td>\n",
       "      <td>1.981448</td>\n",
       "      <td>1.981448</td>\n",
       "    </tr>\n",
       "    <tr>\n",
       "      <th>4</th>\n",
       "      <td>5.400043</td>\n",
       "      <td>5.200021</td>\n",
       "      <td>3.081308</td>\n",
       "      <td>0.863113</td>\n",
       "      <td>0.863113</td>\n",
       "      <td>0.636850</td>\n",
       "      <td>1.402358</td>\n",
       "      <td>1.402080</td>\n",
       "      <td>3.081308</td>\n",
       "      <td>3.081308</td>\n",
       "    </tr>\n",
       "    <tr>\n",
       "      <th>...</th>\n",
       "      <td>...</td>\n",
       "      <td>...</td>\n",
       "      <td>...</td>\n",
       "      <td>...</td>\n",
       "      <td>...</td>\n",
       "      <td>...</td>\n",
       "      <td>...</td>\n",
       "      <td>...</td>\n",
       "      <td>...</td>\n",
       "      <td>...</td>\n",
       "    </tr>\n",
       "    <tr>\n",
       "      <th>995</th>\n",
       "      <td>9.194510</td>\n",
       "      <td>7.097255</td>\n",
       "      <td>2.921342</td>\n",
       "      <td>0.818305</td>\n",
       "      <td>0.818305</td>\n",
       "      <td>1.886766</td>\n",
       "      <td>1.103884</td>\n",
       "      <td>1.831297</td>\n",
       "      <td>2.921342</td>\n",
       "      <td>2.921342</td>\n",
       "    </tr>\n",
       "    <tr>\n",
       "      <th>996</th>\n",
       "      <td>6.590632</td>\n",
       "      <td>5.795316</td>\n",
       "      <td>2.356132</td>\n",
       "      <td>0.659982</td>\n",
       "      <td>0.659982</td>\n",
       "      <td>1.321962</td>\n",
       "      <td>1.812732</td>\n",
       "      <td>2.209261</td>\n",
       "      <td>2.356132</td>\n",
       "      <td>2.356132</td>\n",
       "    </tr>\n",
       "    <tr>\n",
       "      <th>997</th>\n",
       "      <td>7.422400</td>\n",
       "      <td>6.211200</td>\n",
       "      <td>2.785975</td>\n",
       "      <td>0.780387</td>\n",
       "      <td>0.780387</td>\n",
       "      <td>1.183644</td>\n",
       "      <td>2.855057</td>\n",
       "      <td>1.401084</td>\n",
       "      <td>2.785975</td>\n",
       "      <td>2.785975</td>\n",
       "    </tr>\n",
       "    <tr>\n",
       "      <th>998</th>\n",
       "      <td>6.367327</td>\n",
       "      <td>5.683663</td>\n",
       "      <td>0.961675</td>\n",
       "      <td>0.269377</td>\n",
       "      <td>0.269377</td>\n",
       "      <td>1.333386</td>\n",
       "      <td>1.544787</td>\n",
       "      <td>2.225526</td>\n",
       "      <td>0.961675</td>\n",
       "      <td>0.961675</td>\n",
       "    </tr>\n",
       "    <tr>\n",
       "      <th>999</th>\n",
       "      <td>7.758253</td>\n",
       "      <td>6.379126</td>\n",
       "      <td>3.062466</td>\n",
       "      <td>0.857835</td>\n",
       "      <td>0.857835</td>\n",
       "      <td>2.234385</td>\n",
       "      <td>1.969258</td>\n",
       "      <td>2.467311</td>\n",
       "      <td>3.062466</td>\n",
       "      <td>3.062466</td>\n",
       "    </tr>\n",
       "  </tbody>\n",
       "</table>\n",
       "<p>1000 rows × 10 columns</p>\n",
       "</div>"
      ],
      "text/plain": [
       "        mass_1    mass_2     phase     chi_1     chi_2   theta_1   theta_2  \\\n",
       "0     7.717547  6.358773  2.453953  0.687383  0.687383  1.113716  1.443524   \n",
       "1    10.021355  7.510677  1.903325  0.533145  0.533145  2.355071  1.115962   \n",
       "2    10.373227  7.686614  0.279909  0.078406  0.078406  1.712678  1.097208   \n",
       "3     6.905366  5.952683  1.981448  0.555029  0.555029  1.260259  1.486429   \n",
       "4     5.400043  5.200021  3.081308  0.863113  0.863113  0.636850  1.402358   \n",
       "..         ...       ...       ...       ...       ...       ...       ...   \n",
       "995   9.194510  7.097255  2.921342  0.818305  0.818305  1.886766  1.103884   \n",
       "996   6.590632  5.795316  2.356132  0.659982  0.659982  1.321962  1.812732   \n",
       "997   7.422400  6.211200  2.785975  0.780387  0.780387  1.183644  2.855057   \n",
       "998   6.367327  5.683663  0.961675  0.269377  0.269377  1.333386  1.544787   \n",
       "999   7.758253  6.379126  3.062466  0.857835  0.857835  2.234385  1.969258   \n",
       "\n",
       "     theta_jn    phi_12    phi_jl  \n",
       "0    1.760225  2.453953  2.453953  \n",
       "1    2.286962  1.903325  1.903325  \n",
       "2    2.463087  0.279909  0.279909  \n",
       "3    1.665707  1.981448  1.981448  \n",
       "4    1.402080  3.081308  3.081308  \n",
       "..        ...       ...       ...  \n",
       "995  1.831297  2.921342  2.921342  \n",
       "996  2.209261  2.356132  2.356132  \n",
       "997  1.401084  2.785975  2.785975  \n",
       "998  2.225526  0.961675  0.961675  \n",
       "999  2.467311  3.062466  3.062466  \n",
       "\n",
       "[1000 rows x 10 columns]"
      ]
     },
     "execution_count": 5,
     "metadata": {},
     "output_type": "execute_result"
    }
   ],
   "source": [
    "samples = priors.draw(1000)\n",
    "samples"
   ]
  },
  {
   "cell_type": "code",
   "execution_count": 9,
   "metadata": {},
   "outputs": [
    {
     "data": {
      "image/png": "[encoded data removed]",
      "text/plain": [
       "<Figure size 1152x864 with 12 Axes>"
      ]
     },
     "metadata": {
      "needs_background": "light"
     },
     "output_type": "display_data"
    }
   ],
   "source": [
    "samples.hist(bins=50, figsize=(16,12));"
   ]
  },
  {
   "cell_type": "code",
   "execution_count": null,
   "metadata": {},
   "outputs": [],
   "source": []
  }
 ],
 "metadata": {
  "kernelspec": {
   "display_name": "Python 3.8.5 ('venv': venv)",
   "language": "python",
   "name": "python3"
  },
  "language_info": {
   "codemirror_mode": {
    "name": "ipython",
    "version": 3
   },
   "file_extension": ".py",
   "mimetype": "text/x-python",
   "name": "python",
   "nbconvert_exporter": "python",
   "pygments_lexer": "ipython3",
   "version": "3.8.5"
  },
  "orig_nbformat": 4,
  "vscode": {
   "interpreter": {
    "hash": "ff6f8ea5e96bd542a28de66742b0c640b42b98c4452808ad5aceb946193d3f7f"
   }
  }
 },
 "nbformat": 4,
 "nbformat_minor": 2
}
