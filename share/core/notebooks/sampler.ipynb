{
 "cells": [
  {
   "cell_type": "code",
   "execution_count": 1,
   "metadata": {},
   "outputs": [],
   "source": [
    "%load_ext autoreload\n",
    "%autoreload 2"
   ]
  },
  {
   "cell_type": "code",
   "execution_count": 1,
   "metadata": {},
   "outputs": [],
   "source": [
    "import yaml\n",
    "import numpy as np\n",
    "\n",
    "from spiir.distribution import JointDistribution"
   ]
  },
  {
   "cell_type": "code",
   "execution_count": 2,
   "metadata": {},
   "outputs": [],
   "source": [
    "priors = JointDistribution.from_yaml(\"../config/priors.yaml\")"
   ]
  },
  {
   "cell_type": "code",
   "execution_count": 3,
   "metadata": {},
   "outputs": [
    {
     "data": {
      "text/plain": [
       "JointDistribution(\n",
       "  distributions=(\n",
       "    SciPyDistribution(variable='mass_1', distribution='truncnorm', kwargs={'a': 1, 'b': inf, 'loc': 10, 'scale': 3}),\n",
       "    SciPyDistribution(variable='mass_2', distribution='truncnorm', kwargs={'a': 1, 'b': 5, 'loc': 2.5, 'scale': 1}),\n",
       "    NumPyDistribution(variable='phase', distribution='uniform', kwargs={'low': 0.0, 'high': 3.141592653589793}),\n",
       "    NumPyDistribution(variable='chi_1', distribution='uniform', kwargs={'low': 0.0, 'high': 0.88}),\n",
       "    NumPyDistribution(variable='chi_2', distribution='uniform', kwargs={'low': 0.0, 'high': 0.88}),\n",
       "    PyCBCDistribution(variable='theta_1', distribution='sin_angle', kwargs={}),\n",
       "    PyCBCDistribution(variable='theta_2', distribution='sin_angle', kwargs={}),\n",
       "    PyCBCDistribution(variable='theta_jn', distribution='sin_angle', kwargs={}),\n",
       "    NumPyDistribution(variable='phi_12', distribution='uniform', kwargs={'low': 0.0, 'high': 3.141592653589793}),\n",
       "    NumPyDistribution(variable='phi_jl', distribution='uniform', kwargs={'low': 0.0, 'high': 3.141592653589793})\n",
       "  ),\n",
       "  constraints=(\n",
       "    NumPyConstraint(variables=['mass_1', 1], constraint='greater', kwargs={}),\n",
       "    NumPyConstraint(variables=['mass_2', 1], constraint='greater', kwargs={}),\n",
       "    NumPyConstraint(variables=['mass_1', 'mass_2'], constraint='greater_equal', kwargs={})\n",
       "  )\n",
       ")"
      ]
     },
     "execution_count": 3,
     "metadata": {},
     "output_type": "execute_result"
    }
   ],
   "source": [
    "priors"
   ]
  },
  {
   "cell_type": "code",
   "execution_count": 4,
   "metadata": {},
   "outputs": [
    {
     "data": {
      "text/html": [
       "<div>\n",
       "<style scoped>\n",
       "    .dataframe tbody tr th:only-of-type {\n",
       "        vertical-align: middle;\n",
       "    }\n",
       "\n",
       "    .dataframe tbody tr th {\n",
       "        vertical-align: top;\n",
       "    }\n",
       "\n",
       "    .dataframe thead th {\n",
       "        text-align: right;\n",
       "    }\n",
       "</style>\n",
       "<table border=\"1\" class=\"dataframe\">\n",
       "  <thead>\n",
       "    <tr style=\"text-align: right;\">\n",
       "      <th></th>\n",
       "      <th>mass_1</th>\n",
       "      <th>mass_2</th>\n",
       "      <th>phase</th>\n",
       "      <th>chi_1</th>\n",
       "      <th>chi_2</th>\n",
       "      <th>theta_1</th>\n",
       "      <th>theta_2</th>\n",
       "      <th>theta_jn</th>\n",
       "      <th>phi_12</th>\n",
       "      <th>phi_jl</th>\n",
       "    </tr>\n",
       "  </thead>\n",
       "  <tbody>\n",
       "    <tr>\n",
       "      <th>0</th>\n",
       "      <td>15.446371</td>\n",
       "      <td>4.315454</td>\n",
       "      <td>2.453953</td>\n",
       "      <td>0.687383</td>\n",
       "      <td>0.687383</td>\n",
       "      <td>1.648875</td>\n",
       "      <td>2.137366</td>\n",
       "      <td>2.057351</td>\n",
       "      <td>2.453953</td>\n",
       "      <td>2.453953</td>\n",
       "    </tr>\n",
       "    <tr>\n",
       "      <th>1</th>\n",
       "      <td>14.601522</td>\n",
       "      <td>4.033839</td>\n",
       "      <td>1.903325</td>\n",
       "      <td>0.533145</td>\n",
       "      <td>0.533145</td>\n",
       "      <td>1.968942</td>\n",
       "      <td>1.989682</td>\n",
       "      <td>0.565744</td>\n",
       "      <td>1.903325</td>\n",
       "      <td>1.903325</td>\n",
       "    </tr>\n",
       "    <tr>\n",
       "      <th>2</th>\n",
       "      <td>15.053530</td>\n",
       "      <td>4.184508</td>\n",
       "      <td>2.229906</td>\n",
       "      <td>0.624625</td>\n",
       "      <td>0.624625</td>\n",
       "      <td>1.116113</td>\n",
       "      <td>1.519243</td>\n",
       "      <td>2.243941</td>\n",
       "      <td>2.229906</td>\n",
       "      <td>2.229906</td>\n",
       "    </tr>\n",
       "    <tr>\n",
       "      <th>3</th>\n",
       "      <td>13.180698</td>\n",
       "      <td>3.560232</td>\n",
       "      <td>0.279909</td>\n",
       "      <td>0.078406</td>\n",
       "      <td>0.078406</td>\n",
       "      <td>1.445575</td>\n",
       "      <td>0.180877</td>\n",
       "      <td>1.830478</td>\n",
       "      <td>0.279909</td>\n",
       "      <td>0.279909</td>\n",
       "    </tr>\n",
       "    <tr>\n",
       "      <th>4</th>\n",
       "      <td>14.700185</td>\n",
       "      <td>4.066727</td>\n",
       "      <td>1.981448</td>\n",
       "      <td>0.555029</td>\n",
       "      <td>0.555029</td>\n",
       "      <td>1.983939</td>\n",
       "      <td>1.799643</td>\n",
       "      <td>1.811829</td>\n",
       "      <td>1.981448</td>\n",
       "      <td>1.981448</td>\n",
       "    </tr>\n",
       "    <tr>\n",
       "      <th>...</th>\n",
       "      <td>...</td>\n",
       "      <td>...</td>\n",
       "      <td>...</td>\n",
       "      <td>...</td>\n",
       "      <td>...</td>\n",
       "      <td>...</td>\n",
       "      <td>...</td>\n",
       "      <td>...</td>\n",
       "      <td>...</td>\n",
       "      <td>...</td>\n",
       "    </tr>\n",
       "    <tr>\n",
       "      <th>995</th>\n",
       "      <td>16.036782</td>\n",
       "      <td>4.512256</td>\n",
       "      <td>2.704057</td>\n",
       "      <td>0.757441</td>\n",
       "      <td>0.757441</td>\n",
       "      <td>2.086789</td>\n",
       "      <td>0.936593</td>\n",
       "      <td>2.079136</td>\n",
       "      <td>2.704057</td>\n",
       "      <td>2.704057</td>\n",
       "    </tr>\n",
       "    <tr>\n",
       "      <th>996</th>\n",
       "      <td>13.434207</td>\n",
       "      <td>3.644735</td>\n",
       "      <td>0.643464</td>\n",
       "      <td>0.180242</td>\n",
       "      <td>0.180242</td>\n",
       "      <td>1.064428</td>\n",
       "      <td>0.295298</td>\n",
       "      <td>2.767121</td>\n",
       "      <td>0.643464</td>\n",
       "      <td>0.643464</td>\n",
       "    </tr>\n",
       "    <tr>\n",
       "      <th>997</th>\n",
       "      <td>13.052263</td>\n",
       "      <td>3.517421</td>\n",
       "      <td>0.082743</td>\n",
       "      <td>0.023177</td>\n",
       "      <td>0.023177</td>\n",
       "      <td>1.996551</td>\n",
       "      <td>1.928967</td>\n",
       "      <td>0.677872</td>\n",
       "      <td>0.082743</td>\n",
       "      <td>0.082743</td>\n",
       "    </tr>\n",
       "    <tr>\n",
       "      <th>998</th>\n",
       "      <td>16.183732</td>\n",
       "      <td>4.561239</td>\n",
       "      <td>2.752696</td>\n",
       "      <td>0.771065</td>\n",
       "      <td>0.771065</td>\n",
       "      <td>1.107095</td>\n",
       "      <td>1.687959</td>\n",
       "      <td>1.235857</td>\n",
       "      <td>2.752696</td>\n",
       "      <td>2.752696</td>\n",
       "    </tr>\n",
       "    <tr>\n",
       "      <th>999</th>\n",
       "      <td>13.473956</td>\n",
       "      <td>3.657985</td>\n",
       "      <td>0.697410</td>\n",
       "      <td>0.195353</td>\n",
       "      <td>0.195353</td>\n",
       "      <td>1.517617</td>\n",
       "      <td>1.218514</td>\n",
       "      <td>2.083468</td>\n",
       "      <td>0.697410</td>\n",
       "      <td>0.697410</td>\n",
       "    </tr>\n",
       "  </tbody>\n",
       "</table>\n",
       "<p>1000 rows × 10 columns</p>\n",
       "</div>"
      ],
      "text/plain": [
       "        mass_1    mass_2     phase  ...  theta_jn    phi_12    phi_jl\n",
       "0    15.446371  4.315454  2.453953  ...  2.057351  2.453953  2.453953\n",
       "1    14.601522  4.033839  1.903325  ...  0.565744  1.903325  1.903325\n",
       "2    15.053530  4.184508  2.229906  ...  2.243941  2.229906  2.229906\n",
       "3    13.180698  3.560232  0.279909  ...  1.830478  0.279909  0.279909\n",
       "4    14.700185  4.066727  1.981448  ...  1.811829  1.981448  1.981448\n",
       "..         ...       ...       ...  ...       ...       ...       ...\n",
       "995  16.036782  4.512256  2.704057  ...  2.079136  2.704057  2.704057\n",
       "996  13.434207  3.644735  0.643464  ...  2.767121  0.643464  0.643464\n",
       "997  13.052263  3.517421  0.082743  ...  0.677872  0.082743  0.082743\n",
       "998  16.183732  4.561239  2.752696  ...  1.235857  2.752696  2.752696\n",
       "999  13.473956  3.657985  0.697410  ...  2.083468  0.697410  0.697410\n",
       "\n",
       "[1000 rows x 10 columns]"
      ]
     },
     "execution_count": 4,
     "metadata": {},
     "output_type": "execute_result"
    }
   ],
   "source": [
    "samples = priors.draw(1000)\n",
    "samples"
   ]
  },
  {
   "cell_type": "code",
   "execution_count": 5,
   "metadata": {},
   "outputs": [
    {
     "data": {
      "image/png": "[encoded data removed]",
      "text/plain": [
       "<Figure size 1152x864 with 12 Axes>"
      ]
     },
     "metadata": {
      "needs_background": "light"
     },
     "output_type": "display_data"
    }
   ],
   "source": [
    "samples.hist(bins=50, figsize=(16,12));"
   ]
  }
 ],
 "metadata": {
  "kernelspec": {
   "display_name": "Python 3.10.4 ('venv': venv)",
   "language": "python",
   "name": "python3"
  },
  "language_info": {
   "codemirror_mode": {
    "name": "ipython",
    "version": 3
   },
   "file_extension": ".py",
   "mimetype": "text/x-python",
   "name": "python",
   "nbconvert_exporter": "python",
   "pygments_lexer": "ipython3",
   "version": "3.10.4"
  },
  "orig_nbformat": 4,
  "vscode": {
   "interpreter": {
    "hash": "a56a66767397b9cd73b9c1623793e8d8cf7697e9c91fc24d2f8994415e1d921d"
   }
  }
 },
 "nbformat": 4,
 "nbformat_minor": 2
}
